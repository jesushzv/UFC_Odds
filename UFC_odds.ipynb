{
 "cells": [
  {
   "cell_type": "markdown",
   "metadata": {
    "colab_type": "text",
    "id": "view-in-github"
   },
   "source": [
    "<a href=\"https://colab.research.google.com/github/jesushzv/UFC_Odds/blob/main/UFC_odds.ipynb\" target=\"_parent\"><img src=\"https://colab.research.google.com/assets/colab-badge.svg\" alt=\"Open In Colab\"/></a>"
   ]
  },
  {
   "cell_type": "code",
   "execution_count": 1,
   "metadata": {},
   "outputs": [],
   "source": [
    "#In this project, we will test the following hypothesis: MMA matches usually go to the underdog.\n",
    "#We also want to know, even if underdogs don't win most of the time, if betting exclusively on underdogs yields a positive monitary result\n",
    "#The betting strategy will be to always bet $100 to the underdog\n"
   ]
  },
  {
   "cell_type": "code",
   "execution_count": 2,
   "metadata": {
    "id": "PpoWRJG-ut5Q"
   },
   "outputs": [],
   "source": [
    "#Import the necessary libraries\n",
    "\n",
    "import pandas as pd\n",
    "import numpy as np\n",
    "import seaborn as sns"
   ]
  },
  {
   "cell_type": "code",
   "execution_count": 3,
   "metadata": {
    "id": "aTuW9Bzau3iZ"
   },
   "outputs": [],
   "source": [
    "#Data originally from https://www.kaggle.com/mdabbert/ufc-fights-2010-2020-with-betting-odds pulled from Ivan Verdugo's github\n",
    "#Match results with odds from 2010-2020\n",
    "url = 'https://raw.githubusercontent.com/IvanVC21/ufc/main/data.csv'\n",
    "df = pd.read_csv(url)"
   ]
  },
  {
   "cell_type": "code",
   "execution_count": 4,
   "metadata": {
    "colab": {
     "base_uri": "https://localhost:8080/",
     "height": 204
    },
    "id": "x6EglzS6vbsd",
    "outputId": "fc75bb6c-52e0-4184-e0c0-9ac75c5e226e"
   },
   "outputs": [
    {
     "data": {
      "text/html": [
       "<div>\n",
       "<style scoped>\n",
       "    .dataframe tbody tr th:only-of-type {\n",
       "        vertical-align: middle;\n",
       "    }\n",
       "\n",
       "    .dataframe tbody tr th {\n",
       "        vertical-align: top;\n",
       "    }\n",
       "\n",
       "    .dataframe thead th {\n",
       "        text-align: right;\n",
       "    }\n",
       "</style>\n",
       "<table border=\"1\" class=\"dataframe\">\n",
       "  <thead>\n",
       "    <tr style=\"text-align: right;\">\n",
       "      <th></th>\n",
       "      <th>R_fighter</th>\n",
       "      <th>B_fighter</th>\n",
       "      <th>R_odds</th>\n",
       "      <th>B_odds</th>\n",
       "      <th>date</th>\n",
       "      <th>location</th>\n",
       "      <th>country</th>\n",
       "      <th>Winner</th>\n",
       "      <th>title_bout</th>\n",
       "      <th>weight_class</th>\n",
       "      <th>gender</th>\n",
       "    </tr>\n",
       "  </thead>\n",
       "  <tbody>\n",
       "    <tr>\n",
       "      <th>0</th>\n",
       "      <td>Kevin Lee</td>\n",
       "      <td>Charles Oliveira</td>\n",
       "      <td>-145.0</td>\n",
       "      <td>135.0</td>\n",
       "      <td>3/14/2020</td>\n",
       "      <td>Brasilia, Distrito Federal, Brazil</td>\n",
       "      <td>Brazil</td>\n",
       "      <td>Blue</td>\n",
       "      <td>False</td>\n",
       "      <td>Lightweight</td>\n",
       "      <td>MALE</td>\n",
       "    </tr>\n",
       "    <tr>\n",
       "      <th>1</th>\n",
       "      <td>Demian Maia</td>\n",
       "      <td>Gilbert Burns</td>\n",
       "      <td>160.0</td>\n",
       "      <td>-170.0</td>\n",
       "      <td>3/14/2020</td>\n",
       "      <td>Brasilia, Distrito Federal, Brazil</td>\n",
       "      <td>Brazil</td>\n",
       "      <td>Blue</td>\n",
       "      <td>False</td>\n",
       "      <td>Welterweight</td>\n",
       "      <td>MALE</td>\n",
       "    </tr>\n",
       "    <tr>\n",
       "      <th>2</th>\n",
       "      <td>Renato Moicano</td>\n",
       "      <td>Damir Hadzovic</td>\n",
       "      <td>-345.0</td>\n",
       "      <td>315.0</td>\n",
       "      <td>3/14/2020</td>\n",
       "      <td>Brasilia, Distrito Federal, Brazil</td>\n",
       "      <td>Brazil</td>\n",
       "      <td>Red</td>\n",
       "      <td>False</td>\n",
       "      <td>Lightweight</td>\n",
       "      <td>MALE</td>\n",
       "    </tr>\n",
       "    <tr>\n",
       "      <th>3</th>\n",
       "      <td>Johnny Walker</td>\n",
       "      <td>Nikita Krylov</td>\n",
       "      <td>-137.0</td>\n",
       "      <td>127.0</td>\n",
       "      <td>3/14/2020</td>\n",
       "      <td>Brasilia, Distrito Federal, Brazil</td>\n",
       "      <td>Brazil</td>\n",
       "      <td>Blue</td>\n",
       "      <td>False</td>\n",
       "      <td>Light Heavyweight</td>\n",
       "      <td>MALE</td>\n",
       "    </tr>\n",
       "    <tr>\n",
       "      <th>4</th>\n",
       "      <td>Francisco Trinaldo</td>\n",
       "      <td>John Makdessi</td>\n",
       "      <td>-160.0</td>\n",
       "      <td>150.0</td>\n",
       "      <td>3/14/2020</td>\n",
       "      <td>Brasilia, Distrito Federal, Brazil</td>\n",
       "      <td>Brazil</td>\n",
       "      <td>Red</td>\n",
       "      <td>False</td>\n",
       "      <td>Lightweight</td>\n",
       "      <td>MALE</td>\n",
       "    </tr>\n",
       "  </tbody>\n",
       "</table>\n",
       "</div>"
      ],
      "text/plain": [
       "            R_fighter         B_fighter  R_odds  B_odds       date  \\\n",
       "0           Kevin Lee  Charles Oliveira  -145.0   135.0  3/14/2020   \n",
       "1         Demian Maia     Gilbert Burns   160.0  -170.0  3/14/2020   \n",
       "2      Renato Moicano    Damir Hadzovic  -345.0   315.0  3/14/2020   \n",
       "3       Johnny Walker     Nikita Krylov  -137.0   127.0  3/14/2020   \n",
       "4  Francisco Trinaldo     John Makdessi  -160.0   150.0  3/14/2020   \n",
       "\n",
       "                             location country Winner title_bout  \\\n",
       "0  Brasilia, Distrito Federal, Brazil  Brazil   Blue      False   \n",
       "1  Brasilia, Distrito Federal, Brazil  Brazil   Blue      False   \n",
       "2  Brasilia, Distrito Federal, Brazil  Brazil    Red      False   \n",
       "3  Brasilia, Distrito Federal, Brazil  Brazil   Blue      False   \n",
       "4  Brasilia, Distrito Federal, Brazil  Brazil    Red      False   \n",
       "\n",
       "        weight_class gender  \n",
       "0        Lightweight   MALE  \n",
       "1       Welterweight   MALE  \n",
       "2        Lightweight   MALE  \n",
       "3  Light Heavyweight   MALE  \n",
       "4        Lightweight   MALE  "
      ]
     },
     "execution_count": 4,
     "metadata": {},
     "output_type": "execute_result"
    }
   ],
   "source": [
    "df.head()"
   ]
  },
  {
   "cell_type": "code",
   "execution_count": 5,
   "metadata": {
    "colab": {
     "base_uri": "https://localhost:8080/"
    },
    "id": "lgzu5OcOvt1W",
    "outputId": "03fde7de-3d22-4c39-c3ef-e0d34b60defb"
   },
   "outputs": [
    {
     "data": {
      "text/plain": [
       "(5528, 11)"
      ]
     },
     "execution_count": 5,
     "metadata": {},
     "output_type": "execute_result"
    }
   ],
   "source": [
    "df.shape"
   ]
  },
  {
   "cell_type": "code",
   "execution_count": 6,
   "metadata": {
    "colab": {
     "base_uri": "https://localhost:8080/"
    },
    "id": "M-yOUB6svrPK",
    "outputId": "e2c90529-822c-41f7-89e0-5ebcf6a51394"
   },
   "outputs": [
    {
     "data": {
      "text/plain": [
       "gender          1288\n",
       "weight_class    1288\n",
       "title_bout      1288\n",
       "Winner          1288\n",
       "country         1288\n",
       "dtype: int64"
      ]
     },
     "execution_count": 6,
     "metadata": {},
     "output_type": "execute_result"
    }
   ],
   "source": [
    "df.isnull().sum().sort_values(ascending=False).head()"
   ]
  },
  {
   "cell_type": "code",
   "execution_count": 7,
   "metadata": {
    "colab": {
     "base_uri": "https://localhost:8080/"
    },
    "id": "7nk3Lfr-wDHa",
    "outputId": "a6f59898-4bd6-4f54-e4d0-bb3776e8445d"
   },
   "outputs": [
    {
     "data": {
      "text/plain": [
       "R_fighter       0\n",
       "B_fighter       0\n",
       "R_odds          0\n",
       "B_odds          0\n",
       "date            0\n",
       "location        0\n",
       "country         0\n",
       "Winner          0\n",
       "title_bout      0\n",
       "weight_class    0\n",
       "gender          0\n",
       "dtype: int64"
      ]
     },
     "execution_count": 7,
     "metadata": {},
     "output_type": "execute_result"
    }
   ],
   "source": [
    "#A bit of data cleaning, dropping all of the null values, then confirming we don't have any remaining nulls.\n",
    "\n",
    "df.dropna(inplace=True)\n",
    "\n",
    "df.isnull().sum() "
   ]
  },
  {
   "cell_type": "code",
   "execution_count": 8,
   "metadata": {
    "colab": {
     "base_uri": "https://localhost:8080/",
     "height": 204
    },
    "id": "M9qDh--mw-hj",
    "outputId": "34f58292-7d28-4cfd-c22d-ad61dc26a547"
   },
   "outputs": [
    {
     "data": {
      "text/html": [
       "<div>\n",
       "<style scoped>\n",
       "    .dataframe tbody tr th:only-of-type {\n",
       "        vertical-align: middle;\n",
       "    }\n",
       "\n",
       "    .dataframe tbody tr th {\n",
       "        vertical-align: top;\n",
       "    }\n",
       "\n",
       "    .dataframe thead th {\n",
       "        text-align: right;\n",
       "    }\n",
       "</style>\n",
       "<table border=\"1\" class=\"dataframe\">\n",
       "  <thead>\n",
       "    <tr style=\"text-align: right;\">\n",
       "      <th></th>\n",
       "      <th>date</th>\n",
       "      <th>R_odds</th>\n",
       "      <th>B_odds</th>\n",
       "      <th>Winner</th>\n",
       "    </tr>\n",
       "  </thead>\n",
       "  <tbody>\n",
       "    <tr>\n",
       "      <th>0</th>\n",
       "      <td>3/14/2020</td>\n",
       "      <td>-145.0</td>\n",
       "      <td>135.0</td>\n",
       "      <td>Blue</td>\n",
       "    </tr>\n",
       "    <tr>\n",
       "      <th>1</th>\n",
       "      <td>3/14/2020</td>\n",
       "      <td>160.0</td>\n",
       "      <td>-170.0</td>\n",
       "      <td>Blue</td>\n",
       "    </tr>\n",
       "    <tr>\n",
       "      <th>2</th>\n",
       "      <td>3/14/2020</td>\n",
       "      <td>-345.0</td>\n",
       "      <td>315.0</td>\n",
       "      <td>Red</td>\n",
       "    </tr>\n",
       "    <tr>\n",
       "      <th>3</th>\n",
       "      <td>3/14/2020</td>\n",
       "      <td>-137.0</td>\n",
       "      <td>127.0</td>\n",
       "      <td>Blue</td>\n",
       "    </tr>\n",
       "    <tr>\n",
       "      <th>4</th>\n",
       "      <td>3/14/2020</td>\n",
       "      <td>-160.0</td>\n",
       "      <td>150.0</td>\n",
       "      <td>Red</td>\n",
       "    </tr>\n",
       "  </tbody>\n",
       "</table>\n",
       "</div>"
      ],
      "text/plain": [
       "        date  R_odds  B_odds Winner\n",
       "0  3/14/2020  -145.0   135.0   Blue\n",
       "1  3/14/2020   160.0  -170.0   Blue\n",
       "2  3/14/2020  -345.0   315.0    Red\n",
       "3  3/14/2020  -137.0   127.0   Blue\n",
       "4  3/14/2020  -160.0   150.0    Red"
      ]
     },
     "execution_count": 8,
     "metadata": {},
     "output_type": "execute_result"
    }
   ],
   "source": [
    "#New data set only with date, match odds and winner\n",
    "\n",
    "df2 = df[['date','R_odds', 'B_odds', 'Winner']]\n",
    "df2.head()\n",
    "\n"
   ]
  },
  {
   "cell_type": "code",
   "execution_count": 9,
   "metadata": {
    "colab": {
     "base_uri": "https://localhost:8080/"
    },
    "id": "DyPEVRWp-0KT",
    "outputId": "b3f1e7fb-85d6-4563-8115-15f609fcf1bf"
   },
   "outputs": [
    {
     "name": "stderr",
     "output_type": "stream",
     "text": [
      "/opt/anaconda3/lib/python3.7/site-packages/ipykernel_launcher.py:3: SettingWithCopyWarning: \n",
      "A value is trying to be set on a copy of a slice from a DataFrame.\n",
      "Try using .loc[row_indexer,col_indexer] = value instead\n",
      "\n",
      "See the caveats in the documentation: https://pandas.pydata.org/pandas-docs/stable/user_guide/indexing.html#returning-a-view-versus-a-copy\n",
      "  This is separate from the ipykernel package so we can avoid doing imports until\n"
     ]
    }
   ],
   "source": [
    "#Created a column to report the profit, initially filled only with NaN\n",
    "\n",
    "df2['Profit'] = np.nan"
   ]
  },
  {
   "cell_type": "code",
   "execution_count": 10,
   "metadata": {
    "colab": {
     "base_uri": "https://localhost:8080/",
     "height": 419
    },
    "id": "O1_jgqSo44aM",
    "outputId": "c839116a-8e58-48a6-f0ea-4039bc9c751c"
   },
   "outputs": [
    {
     "data": {
      "text/html": [
       "<div>\n",
       "<style scoped>\n",
       "    .dataframe tbody tr th:only-of-type {\n",
       "        vertical-align: middle;\n",
       "    }\n",
       "\n",
       "    .dataframe tbody tr th {\n",
       "        vertical-align: top;\n",
       "    }\n",
       "\n",
       "    .dataframe thead th {\n",
       "        text-align: right;\n",
       "    }\n",
       "</style>\n",
       "<table border=\"1\" class=\"dataframe\">\n",
       "  <thead>\n",
       "    <tr style=\"text-align: right;\">\n",
       "      <th></th>\n",
       "      <th>date</th>\n",
       "      <th>R_odds</th>\n",
       "      <th>B_odds</th>\n",
       "      <th>Winner</th>\n",
       "      <th>Profit</th>\n",
       "    </tr>\n",
       "  </thead>\n",
       "  <tbody>\n",
       "    <tr>\n",
       "      <th>0</th>\n",
       "      <td>3/14/2020</td>\n",
       "      <td>-145.0</td>\n",
       "      <td>135.0</td>\n",
       "      <td>Blue</td>\n",
       "      <td>NaN</td>\n",
       "    </tr>\n",
       "    <tr>\n",
       "      <th>1</th>\n",
       "      <td>3/14/2020</td>\n",
       "      <td>160.0</td>\n",
       "      <td>-170.0</td>\n",
       "      <td>Blue</td>\n",
       "      <td>NaN</td>\n",
       "    </tr>\n",
       "    <tr>\n",
       "      <th>2</th>\n",
       "      <td>3/14/2020</td>\n",
       "      <td>-345.0</td>\n",
       "      <td>315.0</td>\n",
       "      <td>Red</td>\n",
       "      <td>NaN</td>\n",
       "    </tr>\n",
       "    <tr>\n",
       "      <th>3</th>\n",
       "      <td>3/14/2020</td>\n",
       "      <td>-137.0</td>\n",
       "      <td>127.0</td>\n",
       "      <td>Blue</td>\n",
       "      <td>NaN</td>\n",
       "    </tr>\n",
       "    <tr>\n",
       "      <th>4</th>\n",
       "      <td>3/14/2020</td>\n",
       "      <td>-160.0</td>\n",
       "      <td>150.0</td>\n",
       "      <td>Red</td>\n",
       "      <td>NaN</td>\n",
       "    </tr>\n",
       "    <tr>\n",
       "      <th>...</th>\n",
       "      <td>...</td>\n",
       "      <td>...</td>\n",
       "      <td>...</td>\n",
       "      <td>...</td>\n",
       "      <td>...</td>\n",
       "    </tr>\n",
       "    <tr>\n",
       "      <th>4235</th>\n",
       "      <td>3/21/2010</td>\n",
       "      <td>-155.0</td>\n",
       "      <td>135.0</td>\n",
       "      <td>Blue</td>\n",
       "      <td>NaN</td>\n",
       "    </tr>\n",
       "    <tr>\n",
       "      <th>4236</th>\n",
       "      <td>3/21/2010</td>\n",
       "      <td>-210.0</td>\n",
       "      <td>175.0</td>\n",
       "      <td>Red</td>\n",
       "      <td>NaN</td>\n",
       "    </tr>\n",
       "    <tr>\n",
       "      <th>4237</th>\n",
       "      <td>3/21/2010</td>\n",
       "      <td>-260.0</td>\n",
       "      <td>220.0</td>\n",
       "      <td>Red</td>\n",
       "      <td>NaN</td>\n",
       "    </tr>\n",
       "    <tr>\n",
       "      <th>4238</th>\n",
       "      <td>3/21/2010</td>\n",
       "      <td>-420.0</td>\n",
       "      <td>335.0</td>\n",
       "      <td>Red</td>\n",
       "      <td>NaN</td>\n",
       "    </tr>\n",
       "    <tr>\n",
       "      <th>4239</th>\n",
       "      <td>3/21/2010</td>\n",
       "      <td>140.0</td>\n",
       "      <td>-160.0</td>\n",
       "      <td>Blue</td>\n",
       "      <td>NaN</td>\n",
       "    </tr>\n",
       "  </tbody>\n",
       "</table>\n",
       "<p>4240 rows × 5 columns</p>\n",
       "</div>"
      ],
      "text/plain": [
       "           date  R_odds  B_odds Winner  Profit\n",
       "0     3/14/2020  -145.0   135.0   Blue     NaN\n",
       "1     3/14/2020   160.0  -170.0   Blue     NaN\n",
       "2     3/14/2020  -345.0   315.0    Red     NaN\n",
       "3     3/14/2020  -137.0   127.0   Blue     NaN\n",
       "4     3/14/2020  -160.0   150.0    Red     NaN\n",
       "...         ...     ...     ...    ...     ...\n",
       "4235  3/21/2010  -155.0   135.0   Blue     NaN\n",
       "4236  3/21/2010  -210.0   175.0    Red     NaN\n",
       "4237  3/21/2010  -260.0   220.0    Red     NaN\n",
       "4238  3/21/2010  -420.0   335.0    Red     NaN\n",
       "4239  3/21/2010   140.0  -160.0   Blue     NaN\n",
       "\n",
       "[4240 rows x 5 columns]"
      ]
     },
     "execution_count": 10,
     "metadata": {},
     "output_type": "execute_result"
    }
   ],
   "source": [
    "df2"
   ]
  },
  {
   "cell_type": "code",
   "execution_count": 11,
   "metadata": {
    "id": "t5243W3TEQDd"
   },
   "outputs": [],
   "source": [
    "#Boolean mask to create a new dataset that matches all of the instances in wich the underdog won\n",
    "\n",
    "mask = ((df2['R_odds'] > 0) & (df2['Winner'] == 'Red') | (df2['B_odds'] > 0 ) & (df2['Winner'] == 'Blue'))\n",
    "dog_win = df2[mask]\n",
    "\n",
    "#To create a dataset with all of the instances in which the dog lost, we just use the NOT operator with the same boolean mask\n",
    "dog_loss = df2[~mask]\n"
   ]
  },
  {
   "cell_type": "code",
   "execution_count": 12,
   "metadata": {
    "colab": {
     "base_uri": "https://localhost:8080/",
     "height": 521
    },
    "id": "3F1g1zzvOvDR",
    "outputId": "27a47c11-cd84-43fb-c290-234aeadca922"
   },
   "outputs": [
    {
     "name": "stderr",
     "output_type": "stream",
     "text": [
      "/opt/anaconda3/lib/python3.7/site-packages/ipykernel_launcher.py:3: SettingWithCopyWarning: \n",
      "A value is trying to be set on a copy of a slice from a DataFrame.\n",
      "Try using .loc[row_indexer,col_indexer] = value instead\n",
      "\n",
      "See the caveats in the documentation: https://pandas.pydata.org/pandas-docs/stable/user_guide/indexing.html#returning-a-view-versus-a-copy\n",
      "  This is separate from the ipykernel package so we can avoid doing imports until\n"
     ]
    },
    {
     "data": {
      "text/html": [
       "<div>\n",
       "<style scoped>\n",
       "    .dataframe tbody tr th:only-of-type {\n",
       "        vertical-align: middle;\n",
       "    }\n",
       "\n",
       "    .dataframe tbody tr th {\n",
       "        vertical-align: top;\n",
       "    }\n",
       "\n",
       "    .dataframe thead th {\n",
       "        text-align: right;\n",
       "    }\n",
       "</style>\n",
       "<table border=\"1\" class=\"dataframe\">\n",
       "  <thead>\n",
       "    <tr style=\"text-align: right;\">\n",
       "      <th></th>\n",
       "      <th>date</th>\n",
       "      <th>R_odds</th>\n",
       "      <th>B_odds</th>\n",
       "      <th>Winner</th>\n",
       "      <th>Profit</th>\n",
       "    </tr>\n",
       "  </thead>\n",
       "  <tbody>\n",
       "    <tr>\n",
       "      <th>1</th>\n",
       "      <td>3/14/2020</td>\n",
       "      <td>160.0</td>\n",
       "      <td>-170.0</td>\n",
       "      <td>Blue</td>\n",
       "      <td>-100</td>\n",
       "    </tr>\n",
       "    <tr>\n",
       "      <th>2</th>\n",
       "      <td>3/14/2020</td>\n",
       "      <td>-345.0</td>\n",
       "      <td>315.0</td>\n",
       "      <td>Red</td>\n",
       "      <td>-100</td>\n",
       "    </tr>\n",
       "    <tr>\n",
       "      <th>4</th>\n",
       "      <td>3/14/2020</td>\n",
       "      <td>-160.0</td>\n",
       "      <td>150.0</td>\n",
       "      <td>Red</td>\n",
       "      <td>-100</td>\n",
       "    </tr>\n",
       "    <tr>\n",
       "      <th>6</th>\n",
       "      <td>3/14/2020</td>\n",
       "      <td>-345.0</td>\n",
       "      <td>315.0</td>\n",
       "      <td>Red</td>\n",
       "      <td>-100</td>\n",
       "    </tr>\n",
       "    <tr>\n",
       "      <th>7</th>\n",
       "      <td>3/14/2020</td>\n",
       "      <td>-122.0</td>\n",
       "      <td>112.0</td>\n",
       "      <td>Red</td>\n",
       "      <td>-100</td>\n",
       "    </tr>\n",
       "    <tr>\n",
       "      <th>...</th>\n",
       "      <td>...</td>\n",
       "      <td>...</td>\n",
       "      <td>...</td>\n",
       "      <td>...</td>\n",
       "      <td>...</td>\n",
       "    </tr>\n",
       "    <tr>\n",
       "      <th>4234</th>\n",
       "      <td>3/21/2010</td>\n",
       "      <td>145.0</td>\n",
       "      <td>-165.0</td>\n",
       "      <td>Blue</td>\n",
       "      <td>-100</td>\n",
       "    </tr>\n",
       "    <tr>\n",
       "      <th>4236</th>\n",
       "      <td>3/21/2010</td>\n",
       "      <td>-210.0</td>\n",
       "      <td>175.0</td>\n",
       "      <td>Red</td>\n",
       "      <td>-100</td>\n",
       "    </tr>\n",
       "    <tr>\n",
       "      <th>4237</th>\n",
       "      <td>3/21/2010</td>\n",
       "      <td>-260.0</td>\n",
       "      <td>220.0</td>\n",
       "      <td>Red</td>\n",
       "      <td>-100</td>\n",
       "    </tr>\n",
       "    <tr>\n",
       "      <th>4238</th>\n",
       "      <td>3/21/2010</td>\n",
       "      <td>-420.0</td>\n",
       "      <td>335.0</td>\n",
       "      <td>Red</td>\n",
       "      <td>-100</td>\n",
       "    </tr>\n",
       "    <tr>\n",
       "      <th>4239</th>\n",
       "      <td>3/21/2010</td>\n",
       "      <td>140.0</td>\n",
       "      <td>-160.0</td>\n",
       "      <td>Blue</td>\n",
       "      <td>-100</td>\n",
       "    </tr>\n",
       "  </tbody>\n",
       "</table>\n",
       "<p>2889 rows × 5 columns</p>\n",
       "</div>"
      ],
      "text/plain": [
       "           date  R_odds  B_odds Winner  Profit\n",
       "1     3/14/2020   160.0  -170.0   Blue    -100\n",
       "2     3/14/2020  -345.0   315.0    Red    -100\n",
       "4     3/14/2020  -160.0   150.0    Red    -100\n",
       "6     3/14/2020  -345.0   315.0    Red    -100\n",
       "7     3/14/2020  -122.0   112.0    Red    -100\n",
       "...         ...     ...     ...    ...     ...\n",
       "4234  3/21/2010   145.0  -165.0   Blue    -100\n",
       "4236  3/21/2010  -210.0   175.0    Red    -100\n",
       "4237  3/21/2010  -260.0   220.0    Red    -100\n",
       "4238  3/21/2010  -420.0   335.0    Red    -100\n",
       "4239  3/21/2010   140.0  -160.0   Blue    -100\n",
       "\n",
       "[2889 rows x 5 columns]"
      ]
     },
     "execution_count": 12,
     "metadata": {},
     "output_type": "execute_result"
    }
   ],
   "source": [
    "#In the dog_loss DS, the profit will always be -100\n",
    "\n",
    "dog_loss['Profit'] = (-100)\n",
    "dog_loss"
   ]
  },
  {
   "cell_type": "code",
   "execution_count": 13,
   "metadata": {
    "colab": {
     "base_uri": "https://localhost:8080/"
    },
    "id": "-5N2VM4gOv7x",
    "outputId": "757ecb90-6cf1-4b26-d456-423a74456730"
   },
   "outputs": [
    {
     "name": "stderr",
     "output_type": "stream",
     "text": [
      "/opt/anaconda3/lib/python3.7/site-packages/ipykernel_launcher.py:2: SettingWithCopyWarning: \n",
      "A value is trying to be set on a copy of a slice from a DataFrame.\n",
      "Try using .loc[row_indexer,col_indexer] = value instead\n",
      "\n",
      "See the caveats in the documentation: https://pandas.pydata.org/pandas-docs/stable/user_guide/indexing.html#returning-a-view-versus-a-copy\n",
      "  \n"
     ]
    }
   ],
   "source": [
    "#With the american odds system, we will profit the odds number for every $100 we bet, so the profit column will be the Underdog odds\n",
    "dog_win['Profit'] = dog_win.max(axis = 1)"
   ]
  },
  {
   "cell_type": "code",
   "execution_count": 14,
   "metadata": {
    "colab": {
     "base_uri": "https://localhost:8080/",
     "height": 419
    },
    "id": "i2ZjB0sBQRoE",
    "outputId": "5dc6aee1-5519-405c-cdc5-b6d5baddd432"
   },
   "outputs": [
    {
     "data": {
      "text/html": [
       "<div>\n",
       "<style scoped>\n",
       "    .dataframe tbody tr th:only-of-type {\n",
       "        vertical-align: middle;\n",
       "    }\n",
       "\n",
       "    .dataframe tbody tr th {\n",
       "        vertical-align: top;\n",
       "    }\n",
       "\n",
       "    .dataframe thead th {\n",
       "        text-align: right;\n",
       "    }\n",
       "</style>\n",
       "<table border=\"1\" class=\"dataframe\">\n",
       "  <thead>\n",
       "    <tr style=\"text-align: right;\">\n",
       "      <th></th>\n",
       "      <th>date</th>\n",
       "      <th>R_odds</th>\n",
       "      <th>B_odds</th>\n",
       "      <th>Winner</th>\n",
       "      <th>Profit</th>\n",
       "    </tr>\n",
       "  </thead>\n",
       "  <tbody>\n",
       "    <tr>\n",
       "      <th>0</th>\n",
       "      <td>3/14/2020</td>\n",
       "      <td>-145.0</td>\n",
       "      <td>135.0</td>\n",
       "      <td>Blue</td>\n",
       "      <td>135.0</td>\n",
       "    </tr>\n",
       "    <tr>\n",
       "      <th>3</th>\n",
       "      <td>3/14/2020</td>\n",
       "      <td>-137.0</td>\n",
       "      <td>127.0</td>\n",
       "      <td>Blue</td>\n",
       "      <td>127.0</td>\n",
       "    </tr>\n",
       "    <tr>\n",
       "      <th>5</th>\n",
       "      <td>3/14/2020</td>\n",
       "      <td>-150.0</td>\n",
       "      <td>140.0</td>\n",
       "      <td>Blue</td>\n",
       "      <td>140.0</td>\n",
       "    </tr>\n",
       "    <tr>\n",
       "      <th>9</th>\n",
       "      <td>3/14/2020</td>\n",
       "      <td>-140.0</td>\n",
       "      <td>130.0</td>\n",
       "      <td>Blue</td>\n",
       "      <td>130.0</td>\n",
       "    </tr>\n",
       "    <tr>\n",
       "      <th>10</th>\n",
       "      <td>3/14/2020</td>\n",
       "      <td>-110.0</td>\n",
       "      <td>100.0</td>\n",
       "      <td>Blue</td>\n",
       "      <td>100.0</td>\n",
       "    </tr>\n",
       "    <tr>\n",
       "      <th>...</th>\n",
       "      <td>...</td>\n",
       "      <td>...</td>\n",
       "      <td>...</td>\n",
       "      <td>...</td>\n",
       "      <td>...</td>\n",
       "    </tr>\n",
       "    <tr>\n",
       "      <th>4213</th>\n",
       "      <td>3/31/2010</td>\n",
       "      <td>190.0</td>\n",
       "      <td>-230.0</td>\n",
       "      <td>Red</td>\n",
       "      <td>190.0</td>\n",
       "    </tr>\n",
       "    <tr>\n",
       "      <th>4218</th>\n",
       "      <td>3/31/2010</td>\n",
       "      <td>173.0</td>\n",
       "      <td>-205.0</td>\n",
       "      <td>Red</td>\n",
       "      <td>173.0</td>\n",
       "    </tr>\n",
       "    <tr>\n",
       "      <th>4220</th>\n",
       "      <td>3/27/2010</td>\n",
       "      <td>-150.0</td>\n",
       "      <td>140.0</td>\n",
       "      <td>Blue</td>\n",
       "      <td>140.0</td>\n",
       "    </tr>\n",
       "    <tr>\n",
       "      <th>4227</th>\n",
       "      <td>3/27/2010</td>\n",
       "      <td>-160.0</td>\n",
       "      <td>140.0</td>\n",
       "      <td>Blue</td>\n",
       "      <td>140.0</td>\n",
       "    </tr>\n",
       "    <tr>\n",
       "      <th>4235</th>\n",
       "      <td>3/21/2010</td>\n",
       "      <td>-155.0</td>\n",
       "      <td>135.0</td>\n",
       "      <td>Blue</td>\n",
       "      <td>135.0</td>\n",
       "    </tr>\n",
       "  </tbody>\n",
       "</table>\n",
       "<p>1351 rows × 5 columns</p>\n",
       "</div>"
      ],
      "text/plain": [
       "           date  R_odds  B_odds Winner  Profit\n",
       "0     3/14/2020  -145.0   135.0   Blue   135.0\n",
       "3     3/14/2020  -137.0   127.0   Blue   127.0\n",
       "5     3/14/2020  -150.0   140.0   Blue   140.0\n",
       "9     3/14/2020  -140.0   130.0   Blue   130.0\n",
       "10    3/14/2020  -110.0   100.0   Blue   100.0\n",
       "...         ...     ...     ...    ...     ...\n",
       "4213  3/31/2010   190.0  -230.0    Red   190.0\n",
       "4218  3/31/2010   173.0  -205.0    Red   173.0\n",
       "4220  3/27/2010  -150.0   140.0   Blue   140.0\n",
       "4227  3/27/2010  -160.0   140.0   Blue   140.0\n",
       "4235  3/21/2010  -155.0   135.0   Blue   135.0\n",
       "\n",
       "[1351 rows x 5 columns]"
      ]
     },
     "execution_count": 14,
     "metadata": {},
     "output_type": "execute_result"
    }
   ],
   "source": [
    "dog_win"
   ]
  },
  {
   "cell_type": "code",
   "execution_count": 15,
   "metadata": {
    "colab": {
     "base_uri": "https://localhost:8080/"
    },
    "id": "RruPtYsZQTQR",
    "outputId": "fe6390bf-e639-4d89-993a-6da4b7dfd13e"
   },
   "outputs": [
    {
     "name": "stdout",
     "output_type": "stream",
     "text": [
      "-43253.0\n"
     ]
    }
   ],
   "source": [
    "#Compare wins vs losses\n",
    "\n",
    "result = dog_win['Profit'].sum() + dog_loss['Profit'].sum()\n",
    "print(result)"
   ]
  },
  {
   "cell_type": "code",
   "execution_count": 16,
   "metadata": {
    "colab": {
     "base_uri": "https://localhost:8080/"
    },
    "id": "0mnwzY70d4Ro",
    "outputId": "e763ac1d-f863-403e-e958-3117b5bb2972"
   },
   "outputs": [
    {
     "name": "stdout",
     "output_type": "stream",
     "text": [
      "655.0\n",
      "735.0\n",
      "-1700.0\n",
      "-1200.0\n"
     ]
    }
   ],
   "source": [
    "#Biggest upsets\n",
    "print(dog_win['R_odds'].max())\n",
    "print(dog_win['B_odds'].max())\n",
    "\n",
    "#Biggest favorites who, indeed, won\n",
    "print(dog_loss['R_odds'].min())\n",
    "print(dog_loss['B_odds'].min())\n"
   ]
  },
  {
   "cell_type": "code",
   "execution_count": 17,
   "metadata": {
    "id": "wu0pGAuMSACL"
   },
   "outputs": [],
   "source": [
    "#Merge both DF\n",
    "dataframes = [dog_win, dog_loss]\n",
    "df3 = pd.concat(dataframes)"
   ]
  },
  {
   "cell_type": "code",
   "execution_count": 18,
   "metadata": {
    "colab": {
     "base_uri": "https://localhost:8080/",
     "height": 419
    },
    "id": "o16A7NpCVZ93",
    "outputId": "e76f9ca7-a1fe-4d70-f39a-c1edb0719e29"
   },
   "outputs": [
    {
     "data": {
      "text/html": [
       "<div>\n",
       "<style scoped>\n",
       "    .dataframe tbody tr th:only-of-type {\n",
       "        vertical-align: middle;\n",
       "    }\n",
       "\n",
       "    .dataframe tbody tr th {\n",
       "        vertical-align: top;\n",
       "    }\n",
       "\n",
       "    .dataframe thead th {\n",
       "        text-align: right;\n",
       "    }\n",
       "</style>\n",
       "<table border=\"1\" class=\"dataframe\">\n",
       "  <thead>\n",
       "    <tr style=\"text-align: right;\">\n",
       "      <th></th>\n",
       "      <th>date</th>\n",
       "      <th>R_odds</th>\n",
       "      <th>B_odds</th>\n",
       "      <th>Winner</th>\n",
       "      <th>Profit</th>\n",
       "    </tr>\n",
       "  </thead>\n",
       "  <tbody>\n",
       "    <tr>\n",
       "      <th>0</th>\n",
       "      <td>3/14/2020</td>\n",
       "      <td>-145.0</td>\n",
       "      <td>135.0</td>\n",
       "      <td>Blue</td>\n",
       "      <td>135.0</td>\n",
       "    </tr>\n",
       "    <tr>\n",
       "      <th>3</th>\n",
       "      <td>3/14/2020</td>\n",
       "      <td>-137.0</td>\n",
       "      <td>127.0</td>\n",
       "      <td>Blue</td>\n",
       "      <td>127.0</td>\n",
       "    </tr>\n",
       "    <tr>\n",
       "      <th>5</th>\n",
       "      <td>3/14/2020</td>\n",
       "      <td>-150.0</td>\n",
       "      <td>140.0</td>\n",
       "      <td>Blue</td>\n",
       "      <td>140.0</td>\n",
       "    </tr>\n",
       "    <tr>\n",
       "      <th>9</th>\n",
       "      <td>3/14/2020</td>\n",
       "      <td>-140.0</td>\n",
       "      <td>130.0</td>\n",
       "      <td>Blue</td>\n",
       "      <td>130.0</td>\n",
       "    </tr>\n",
       "    <tr>\n",
       "      <th>10</th>\n",
       "      <td>3/14/2020</td>\n",
       "      <td>-110.0</td>\n",
       "      <td>100.0</td>\n",
       "      <td>Blue</td>\n",
       "      <td>100.0</td>\n",
       "    </tr>\n",
       "    <tr>\n",
       "      <th>...</th>\n",
       "      <td>...</td>\n",
       "      <td>...</td>\n",
       "      <td>...</td>\n",
       "      <td>...</td>\n",
       "      <td>...</td>\n",
       "    </tr>\n",
       "    <tr>\n",
       "      <th>4234</th>\n",
       "      <td>3/21/2010</td>\n",
       "      <td>145.0</td>\n",
       "      <td>-165.0</td>\n",
       "      <td>Blue</td>\n",
       "      <td>-100.0</td>\n",
       "    </tr>\n",
       "    <tr>\n",
       "      <th>4236</th>\n",
       "      <td>3/21/2010</td>\n",
       "      <td>-210.0</td>\n",
       "      <td>175.0</td>\n",
       "      <td>Red</td>\n",
       "      <td>-100.0</td>\n",
       "    </tr>\n",
       "    <tr>\n",
       "      <th>4237</th>\n",
       "      <td>3/21/2010</td>\n",
       "      <td>-260.0</td>\n",
       "      <td>220.0</td>\n",
       "      <td>Red</td>\n",
       "      <td>-100.0</td>\n",
       "    </tr>\n",
       "    <tr>\n",
       "      <th>4238</th>\n",
       "      <td>3/21/2010</td>\n",
       "      <td>-420.0</td>\n",
       "      <td>335.0</td>\n",
       "      <td>Red</td>\n",
       "      <td>-100.0</td>\n",
       "    </tr>\n",
       "    <tr>\n",
       "      <th>4239</th>\n",
       "      <td>3/21/2010</td>\n",
       "      <td>140.0</td>\n",
       "      <td>-160.0</td>\n",
       "      <td>Blue</td>\n",
       "      <td>-100.0</td>\n",
       "    </tr>\n",
       "  </tbody>\n",
       "</table>\n",
       "<p>4240 rows × 5 columns</p>\n",
       "</div>"
      ],
      "text/plain": [
       "           date  R_odds  B_odds Winner  Profit\n",
       "0     3/14/2020  -145.0   135.0   Blue   135.0\n",
       "3     3/14/2020  -137.0   127.0   Blue   127.0\n",
       "5     3/14/2020  -150.0   140.0   Blue   140.0\n",
       "9     3/14/2020  -140.0   130.0   Blue   130.0\n",
       "10    3/14/2020  -110.0   100.0   Blue   100.0\n",
       "...         ...     ...     ...    ...     ...\n",
       "4234  3/21/2010   145.0  -165.0   Blue  -100.0\n",
       "4236  3/21/2010  -210.0   175.0    Red  -100.0\n",
       "4237  3/21/2010  -260.0   220.0    Red  -100.0\n",
       "4238  3/21/2010  -420.0   335.0    Red  -100.0\n",
       "4239  3/21/2010   140.0  -160.0   Blue  -100.0\n",
       "\n",
       "[4240 rows x 5 columns]"
      ]
     },
     "execution_count": 18,
     "metadata": {},
     "output_type": "execute_result"
    }
   ],
   "source": [
    "df3"
   ]
  },
  {
   "cell_type": "code",
   "execution_count": 19,
   "metadata": {
    "id": "4UrcneLQVexP"
   },
   "outputs": [],
   "source": [
    "#Import the datetime library to sort results by month\n",
    "import datetime \n",
    "df3['date'] = pd.to_datetime(df['date'])\n",
    "df3['date'] = df3['date'].dt.strftime('%Y-%m')"
   ]
  },
  {
   "cell_type": "code",
   "execution_count": 20,
   "metadata": {
    "colab": {
     "base_uri": "https://localhost:8080/",
     "height": 1000
    },
    "id": "q9wRmdlvWs-B",
    "outputId": "3823c2b7-5ac3-4723-847c-33fd5e5ead5a"
   },
   "outputs": [
    {
     "data": {
      "text/html": [
       "<div>\n",
       "<style scoped>\n",
       "    .dataframe tbody tr th:only-of-type {\n",
       "        vertical-align: middle;\n",
       "    }\n",
       "\n",
       "    .dataframe tbody tr th {\n",
       "        vertical-align: top;\n",
       "    }\n",
       "\n",
       "    .dataframe thead th {\n",
       "        text-align: right;\n",
       "    }\n",
       "</style>\n",
       "<table border=\"1\" class=\"dataframe\">\n",
       "  <thead>\n",
       "    <tr style=\"text-align: right;\">\n",
       "      <th></th>\n",
       "      <th>Profit</th>\n",
       "    </tr>\n",
       "    <tr>\n",
       "      <th>date</th>\n",
       "      <th></th>\n",
       "    </tr>\n",
       "  </thead>\n",
       "  <tbody>\n",
       "    <tr>\n",
       "      <th>2010-03</th>\n",
       "      <td>-1632.0</td>\n",
       "    </tr>\n",
       "    <tr>\n",
       "      <th>2010-04</th>\n",
       "      <td>505.0</td>\n",
       "    </tr>\n",
       "    <tr>\n",
       "      <th>2010-05</th>\n",
       "      <td>990.0</td>\n",
       "    </tr>\n",
       "    <tr>\n",
       "      <th>2010-06</th>\n",
       "      <td>281.0</td>\n",
       "    </tr>\n",
       "    <tr>\n",
       "      <th>2010-07</th>\n",
       "      <td>-93.0</td>\n",
       "    </tr>\n",
       "    <tr>\n",
       "      <th>...</th>\n",
       "      <td>...</td>\n",
       "    </tr>\n",
       "    <tr>\n",
       "      <th>2019-11</th>\n",
       "      <td>-1120.0</td>\n",
       "    </tr>\n",
       "    <tr>\n",
       "      <th>2019-12</th>\n",
       "      <td>-1055.0</td>\n",
       "    </tr>\n",
       "    <tr>\n",
       "      <th>2020-01</th>\n",
       "      <td>15.0</td>\n",
       "    </tr>\n",
       "    <tr>\n",
       "      <th>2020-02</th>\n",
       "      <td>207.0</td>\n",
       "    </tr>\n",
       "    <tr>\n",
       "      <th>2020-03</th>\n",
       "      <td>-181.0</td>\n",
       "    </tr>\n",
       "  </tbody>\n",
       "</table>\n",
       "<p>121 rows × 1 columns</p>\n",
       "</div>"
      ],
      "text/plain": [
       "         Profit\n",
       "date           \n",
       "2010-03 -1632.0\n",
       "2010-04   505.0\n",
       "2010-05   990.0\n",
       "2010-06   281.0\n",
       "2010-07   -93.0\n",
       "...         ...\n",
       "2019-11 -1120.0\n",
       "2019-12 -1055.0\n",
       "2020-01    15.0\n",
       "2020-02   207.0\n",
       "2020-03  -181.0\n",
       "\n",
       "[121 rows x 1 columns]"
      ]
     },
     "execution_count": 20,
     "metadata": {},
     "output_type": "execute_result"
    }
   ],
   "source": [
    "\n",
    "month_by_month = df3.groupby('date', as_index = 'False').agg({'Profit':'sum'})\n",
    "month_by_month"
   ]
  },
  {
   "cell_type": "code",
   "execution_count": 21,
   "metadata": {
    "colab": {
     "base_uri": "https://localhost:8080/",
     "height": 297
    },
    "id": "pQtrACFlXfl7",
    "outputId": "90519fd8-0c61-4761-d8fb-afdc53efe4e3"
   },
   "outputs": [
    {
     "data": {
      "text/html": [
       "<div>\n",
       "<style scoped>\n",
       "    .dataframe tbody tr th:only-of-type {\n",
       "        vertical-align: middle;\n",
       "    }\n",
       "\n",
       "    .dataframe tbody tr th {\n",
       "        vertical-align: top;\n",
       "    }\n",
       "\n",
       "    .dataframe thead th {\n",
       "        text-align: right;\n",
       "    }\n",
       "</style>\n",
       "<table border=\"1\" class=\"dataframe\">\n",
       "  <thead>\n",
       "    <tr style=\"text-align: right;\">\n",
       "      <th></th>\n",
       "      <th>Profit</th>\n",
       "    </tr>\n",
       "  </thead>\n",
       "  <tbody>\n",
       "    <tr>\n",
       "      <th>count</th>\n",
       "      <td>121.000000</td>\n",
       "    </tr>\n",
       "    <tr>\n",
       "      <th>mean</th>\n",
       "      <td>-357.462810</td>\n",
       "    </tr>\n",
       "    <tr>\n",
       "      <th>std</th>\n",
       "      <td>836.344796</td>\n",
       "    </tr>\n",
       "    <tr>\n",
       "      <th>min</th>\n",
       "      <td>-2260.000000</td>\n",
       "    </tr>\n",
       "    <tr>\n",
       "      <th>25%</th>\n",
       "      <td>-860.000000</td>\n",
       "    </tr>\n",
       "    <tr>\n",
       "      <th>50%</th>\n",
       "      <td>-363.000000</td>\n",
       "    </tr>\n",
       "    <tr>\n",
       "      <th>75%</th>\n",
       "      <td>175.000000</td>\n",
       "    </tr>\n",
       "    <tr>\n",
       "      <th>max</th>\n",
       "      <td>2398.000000</td>\n",
       "    </tr>\n",
       "  </tbody>\n",
       "</table>\n",
       "</div>"
      ],
      "text/plain": [
       "            Profit\n",
       "count   121.000000\n",
       "mean   -357.462810\n",
       "std     836.344796\n",
       "min   -2260.000000\n",
       "25%    -860.000000\n",
       "50%    -363.000000\n",
       "75%     175.000000\n",
       "max    2398.000000"
      ]
     },
     "execution_count": 21,
     "metadata": {},
     "output_type": "execute_result"
    }
   ],
   "source": [
    "#Descriptive statistics\n",
    "month_by_month.describe()"
   ]
  },
  {
   "cell_type": "code",
   "execution_count": 24,
   "metadata": {
    "colab": {
     "base_uri": "https://localhost:8080/",
     "height": 296
    },
    "id": "0IDTmV98Xv2I",
    "outputId": "e2c6a305-fa6c-4b18-c49f-b77927401b9f"
   },
   "outputs": [
    {
     "ename": "AttributeError",
     "evalue": "module 'seaborn' has no attribute 'histplot'",
     "output_type": "error",
     "traceback": [
      "\u001b[0;31m---------------------------------------------------------------------------\u001b[0m",
      "\u001b[0;31mAttributeError\u001b[0m                            Traceback (most recent call last)",
      "\u001b[0;32m<ipython-input-24-ce8496bf080f>\u001b[0m in \u001b[0;36m<module>\u001b[0;34m\u001b[0m\n\u001b[1;32m      1\u001b[0m \u001b[0;31m#Histogram of results\u001b[0m\u001b[0;34m\u001b[0m\u001b[0;34m\u001b[0m\u001b[0;34m\u001b[0m\u001b[0m\n\u001b[0;32m----> 2\u001b[0;31m \u001b[0msns\u001b[0m\u001b[0;34m.\u001b[0m\u001b[0mhistplot\u001b[0m\u001b[0;34m(\u001b[0m\u001b[0mdata\u001b[0m\u001b[0;34m=\u001b[0m\u001b[0mmonth_by_month\u001b[0m\u001b[0;34m,\u001b[0m \u001b[0mx\u001b[0m\u001b[0;34m=\u001b[0m\u001b[0;34m'Profit'\u001b[0m\u001b[0;34m,\u001b[0m \u001b[0mbins\u001b[0m\u001b[0;34m=\u001b[0m\u001b[0;36m30\u001b[0m\u001b[0;34m)\u001b[0m\u001b[0;34m\u001b[0m\u001b[0;34m\u001b[0m\u001b[0m\n\u001b[0m",
      "\u001b[0;31mAttributeError\u001b[0m: module 'seaborn' has no attribute 'histplot'"
     ]
    }
   ],
   "source": [
    "#Histogram of results\n",
    "sns.histplot(data=month_by_month, x='Profit', bins=30)"
   ]
  },
  {
   "cell_type": "code",
   "execution_count": null,
   "metadata": {},
   "outputs": [],
   "source": [
    "#As we could see. not only did underdogs performed worst, but they didn't even perform good enough to break even in our bets"
   ]
  }
 ],
 "metadata": {
  "colab": {
   "collapsed_sections": [],
   "include_colab_link": true,
   "name": "UFC odds.ipynb",
   "provenance": []
  },
  "kernelspec": {
   "display_name": "Python 3",
   "language": "python",
   "name": "python3"
  },
  "language_info": {
   "codemirror_mode": {
    "name": "ipython",
    "version": 3
   },
   "file_extension": ".py",
   "mimetype": "text/x-python",
   "name": "python",
   "nbconvert_exporter": "python",
   "pygments_lexer": "ipython3",
   "version": "3.7.6"
  }
 },
 "nbformat": 4,
 "nbformat_minor": 1
}
