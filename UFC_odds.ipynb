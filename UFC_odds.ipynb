{
  "nbformat": 4,
  "nbformat_minor": 0,
  "metadata": {
    "colab": {
      "name": "UFC odds.ipynb",
      "provenance": [],
      "collapsed_sections": [],
      "toc_visible": true,
      "include_colab_link": true
    },
    "kernelspec": {
      "display_name": "Python 3",
      "language": "python",
      "name": "python3"
    },
    "language_info": {
      "codemirror_mode": {
        "name": "ipython",
        "version": 3
      },
      "file_extension": ".py",
      "mimetype": "text/x-python",
      "name": "python",
      "nbconvert_exporter": "python",
      "pygments_lexer": "ipython3",
      "version": "3.7.6"
    }
  },
  "cells": [
    {
      "cell_type": "markdown",
      "metadata": {
        "id": "view-in-github",
        "colab_type": "text"
      },
      "source": [
        "<a href=\"https://colab.research.google.com/github/jesushzv/UFC_Odds/blob/main/UFC_odds.ipynb\" target=\"_parent\"><img src=\"https://colab.research.google.com/assets/colab-badge.svg\" alt=\"Open In Colab\"/></a>"
      ]
    },
    {
      "cell_type": "code",
      "metadata": {
        "id": "lasIbH_i_w6g"
      },
      "source": [
        "#In this project, we will test the following hypothesis: MMA matches usually go to the underdog.\n",
        "#We also want to know, even if underdogs don't win most of the time, if betting exclusively on underdogs yields a positive monitary result\n",
        "#The betting strategy will be to always bet $100 to the underdog\n"
      ],
      "execution_count": 1,
      "outputs": []
    },
    {
      "cell_type": "code",
      "metadata": {
        "id": "PpoWRJG-ut5Q"
      },
      "source": [
        "#Import the necessary libraries\n",
        "\n",
        "import pandas as pd\n",
        "import numpy as np\n",
        "import seaborn as sns"
      ],
      "execution_count": 2,
      "outputs": []
    },
    {
      "cell_type": "code",
      "metadata": {
        "id": "aTuW9Bzau3iZ"
      },
      "source": [
        "#Data originally from https://www.kaggle.com/mdabbert/ufc-fights-2010-2020-with-betting-odds pulled from Ivan Verdugo's github\n",
        "#Match results with odds from 2010-2020\n",
        "url = 'https://raw.githubusercontent.com/IvanVC21/ufc/main/data.csv'\n",
        "df = pd.read_csv(url)"
      ],
      "execution_count": 3,
      "outputs": []
    },
    {
      "cell_type": "code",
      "metadata": {
        "colab": {
          "base_uri": "https://localhost:8080/",
          "height": 204
        },
        "id": "x6EglzS6vbsd",
        "outputId": "e156b161-d8c5-40f7-d8c9-ed37d88b8d23"
      },
      "source": [
        "df.head()"
      ],
      "execution_count": 4,
      "outputs": [
        {
          "output_type": "execute_result",
          "data": {
            "text/html": [
              "<div>\n",
              "<style scoped>\n",
              "    .dataframe tbody tr th:only-of-type {\n",
              "        vertical-align: middle;\n",
              "    }\n",
              "\n",
              "    .dataframe tbody tr th {\n",
              "        vertical-align: top;\n",
              "    }\n",
              "\n",
              "    .dataframe thead th {\n",
              "        text-align: right;\n",
              "    }\n",
              "</style>\n",
              "<table border=\"1\" class=\"dataframe\">\n",
              "  <thead>\n",
              "    <tr style=\"text-align: right;\">\n",
              "      <th></th>\n",
              "      <th>R_fighter</th>\n",
              "      <th>B_fighter</th>\n",
              "      <th>R_odds</th>\n",
              "      <th>B_odds</th>\n",
              "      <th>date</th>\n",
              "      <th>location</th>\n",
              "      <th>country</th>\n",
              "      <th>Winner</th>\n",
              "      <th>title_bout</th>\n",
              "      <th>weight_class</th>\n",
              "      <th>gender</th>\n",
              "    </tr>\n",
              "  </thead>\n",
              "  <tbody>\n",
              "    <tr>\n",
              "      <th>0</th>\n",
              "      <td>Kevin Lee</td>\n",
              "      <td>Charles Oliveira</td>\n",
              "      <td>-145.0</td>\n",
              "      <td>135.0</td>\n",
              "      <td>3/14/2020</td>\n",
              "      <td>Brasilia, Distrito Federal, Brazil</td>\n",
              "      <td>Brazil</td>\n",
              "      <td>Blue</td>\n",
              "      <td>False</td>\n",
              "      <td>Lightweight</td>\n",
              "      <td>MALE</td>\n",
              "    </tr>\n",
              "    <tr>\n",
              "      <th>1</th>\n",
              "      <td>Demian Maia</td>\n",
              "      <td>Gilbert Burns</td>\n",
              "      <td>160.0</td>\n",
              "      <td>-170.0</td>\n",
              "      <td>3/14/2020</td>\n",
              "      <td>Brasilia, Distrito Federal, Brazil</td>\n",
              "      <td>Brazil</td>\n",
              "      <td>Blue</td>\n",
              "      <td>False</td>\n",
              "      <td>Welterweight</td>\n",
              "      <td>MALE</td>\n",
              "    </tr>\n",
              "    <tr>\n",
              "      <th>2</th>\n",
              "      <td>Renato Moicano</td>\n",
              "      <td>Damir Hadzovic</td>\n",
              "      <td>-345.0</td>\n",
              "      <td>315.0</td>\n",
              "      <td>3/14/2020</td>\n",
              "      <td>Brasilia, Distrito Federal, Brazil</td>\n",
              "      <td>Brazil</td>\n",
              "      <td>Red</td>\n",
              "      <td>False</td>\n",
              "      <td>Lightweight</td>\n",
              "      <td>MALE</td>\n",
              "    </tr>\n",
              "    <tr>\n",
              "      <th>3</th>\n",
              "      <td>Johnny Walker</td>\n",
              "      <td>Nikita Krylov</td>\n",
              "      <td>-137.0</td>\n",
              "      <td>127.0</td>\n",
              "      <td>3/14/2020</td>\n",
              "      <td>Brasilia, Distrito Federal, Brazil</td>\n",
              "      <td>Brazil</td>\n",
              "      <td>Blue</td>\n",
              "      <td>False</td>\n",
              "      <td>Light Heavyweight</td>\n",
              "      <td>MALE</td>\n",
              "    </tr>\n",
              "    <tr>\n",
              "      <th>4</th>\n",
              "      <td>Francisco Trinaldo</td>\n",
              "      <td>John Makdessi</td>\n",
              "      <td>-160.0</td>\n",
              "      <td>150.0</td>\n",
              "      <td>3/14/2020</td>\n",
              "      <td>Brasilia, Distrito Federal, Brazil</td>\n",
              "      <td>Brazil</td>\n",
              "      <td>Red</td>\n",
              "      <td>False</td>\n",
              "      <td>Lightweight</td>\n",
              "      <td>MALE</td>\n",
              "    </tr>\n",
              "  </tbody>\n",
              "</table>\n",
              "</div>"
            ],
            "text/plain": [
              "            R_fighter         B_fighter  ...       weight_class  gender\n",
              "0           Kevin Lee  Charles Oliveira  ...        Lightweight    MALE\n",
              "1         Demian Maia     Gilbert Burns  ...       Welterweight    MALE\n",
              "2      Renato Moicano    Damir Hadzovic  ...        Lightweight    MALE\n",
              "3       Johnny Walker     Nikita Krylov  ...  Light Heavyweight    MALE\n",
              "4  Francisco Trinaldo     John Makdessi  ...        Lightweight    MALE\n",
              "\n",
              "[5 rows x 11 columns]"
            ]
          },
          "metadata": {},
          "execution_count": 4
        }
      ]
    },
    {
      "cell_type": "code",
      "metadata": {
        "colab": {
          "base_uri": "https://localhost:8080/"
        },
        "id": "lgzu5OcOvt1W",
        "outputId": "08d87851-f993-4402-959a-0de8bc6560d1"
      },
      "source": [
        "df.shape"
      ],
      "execution_count": 5,
      "outputs": [
        {
          "output_type": "execute_result",
          "data": {
            "text/plain": [
              "(5528, 11)"
            ]
          },
          "metadata": {},
          "execution_count": 5
        }
      ]
    },
    {
      "cell_type": "code",
      "metadata": {
        "colab": {
          "base_uri": "https://localhost:8080/"
        },
        "id": "M-yOUB6svrPK",
        "outputId": "5d94c44b-48f7-4d30-955c-2d1403757fd7"
      },
      "source": [
        "df.isnull().sum().sort_values(ascending=False).head()"
      ],
      "execution_count": 6,
      "outputs": [
        {
          "output_type": "execute_result",
          "data": {
            "text/plain": [
              "gender          1288\n",
              "weight_class    1288\n",
              "title_bout      1288\n",
              "Winner          1288\n",
              "country         1288\n",
              "dtype: int64"
            ]
          },
          "metadata": {},
          "execution_count": 6
        }
      ]
    },
    {
      "cell_type": "code",
      "metadata": {
        "colab": {
          "base_uri": "https://localhost:8080/"
        },
        "id": "7nk3Lfr-wDHa",
        "outputId": "360685a6-7493-4af1-e791-c2225a537604"
      },
      "source": [
        "#A bit of data cleaning, dropping all of the null values, then confirming we don't have any remaining nulls.\n",
        "\n",
        "df.dropna(inplace=True)\n",
        "\n",
        "df.isnull().sum() "
      ],
      "execution_count": 7,
      "outputs": [
        {
          "output_type": "execute_result",
          "data": {
            "text/plain": [
              "R_fighter       0\n",
              "B_fighter       0\n",
              "R_odds          0\n",
              "B_odds          0\n",
              "date            0\n",
              "location        0\n",
              "country         0\n",
              "Winner          0\n",
              "title_bout      0\n",
              "weight_class    0\n",
              "gender          0\n",
              "dtype: int64"
            ]
          },
          "metadata": {},
          "execution_count": 7
        }
      ]
    },
    {
      "cell_type": "code",
      "metadata": {
        "colab": {
          "base_uri": "https://localhost:8080/",
          "height": 204
        },
        "id": "M9qDh--mw-hj",
        "outputId": "360997d9-14c8-4b21-a90d-7e6c2a11ad25"
      },
      "source": [
        "#New data set only with date, match odds and winner\n",
        "\n",
        "df2 = df[['date','R_odds', 'B_odds', 'Winner']]\n",
        "df2.head()\n",
        "\n"
      ],
      "execution_count": 8,
      "outputs": [
        {
          "output_type": "execute_result",
          "data": {
            "text/html": [
              "<div>\n",
              "<style scoped>\n",
              "    .dataframe tbody tr th:only-of-type {\n",
              "        vertical-align: middle;\n",
              "    }\n",
              "\n",
              "    .dataframe tbody tr th {\n",
              "        vertical-align: top;\n",
              "    }\n",
              "\n",
              "    .dataframe thead th {\n",
              "        text-align: right;\n",
              "    }\n",
              "</style>\n",
              "<table border=\"1\" class=\"dataframe\">\n",
              "  <thead>\n",
              "    <tr style=\"text-align: right;\">\n",
              "      <th></th>\n",
              "      <th>date</th>\n",
              "      <th>R_odds</th>\n",
              "      <th>B_odds</th>\n",
              "      <th>Winner</th>\n",
              "    </tr>\n",
              "  </thead>\n",
              "  <tbody>\n",
              "    <tr>\n",
              "      <th>0</th>\n",
              "      <td>3/14/2020</td>\n",
              "      <td>-145.0</td>\n",
              "      <td>135.0</td>\n",
              "      <td>Blue</td>\n",
              "    </tr>\n",
              "    <tr>\n",
              "      <th>1</th>\n",
              "      <td>3/14/2020</td>\n",
              "      <td>160.0</td>\n",
              "      <td>-170.0</td>\n",
              "      <td>Blue</td>\n",
              "    </tr>\n",
              "    <tr>\n",
              "      <th>2</th>\n",
              "      <td>3/14/2020</td>\n",
              "      <td>-345.0</td>\n",
              "      <td>315.0</td>\n",
              "      <td>Red</td>\n",
              "    </tr>\n",
              "    <tr>\n",
              "      <th>3</th>\n",
              "      <td>3/14/2020</td>\n",
              "      <td>-137.0</td>\n",
              "      <td>127.0</td>\n",
              "      <td>Blue</td>\n",
              "    </tr>\n",
              "    <tr>\n",
              "      <th>4</th>\n",
              "      <td>3/14/2020</td>\n",
              "      <td>-160.0</td>\n",
              "      <td>150.0</td>\n",
              "      <td>Red</td>\n",
              "    </tr>\n",
              "  </tbody>\n",
              "</table>\n",
              "</div>"
            ],
            "text/plain": [
              "        date  R_odds  B_odds Winner\n",
              "0  3/14/2020  -145.0   135.0   Blue\n",
              "1  3/14/2020   160.0  -170.0   Blue\n",
              "2  3/14/2020  -345.0   315.0    Red\n",
              "3  3/14/2020  -137.0   127.0   Blue\n",
              "4  3/14/2020  -160.0   150.0    Red"
            ]
          },
          "metadata": {},
          "execution_count": 8
        }
      ]
    },
    {
      "cell_type": "code",
      "metadata": {
        "colab": {
          "base_uri": "https://localhost:8080/"
        },
        "id": "DyPEVRWp-0KT",
        "outputId": "c27c2400-4954-4a35-e36a-ef1cdb044210"
      },
      "source": [
        "#Created a column to report the profit, initially filled only with NaN\n",
        "\n",
        "df2['Profit'] = np.nan"
      ],
      "execution_count": 9,
      "outputs": [
        {
          "output_type": "stream",
          "name": "stderr",
          "text": [
            "/usr/local/lib/python3.7/dist-packages/ipykernel_launcher.py:3: SettingWithCopyWarning: \n",
            "A value is trying to be set on a copy of a slice from a DataFrame.\n",
            "Try using .loc[row_indexer,col_indexer] = value instead\n",
            "\n",
            "See the caveats in the documentation: https://pandas.pydata.org/pandas-docs/stable/user_guide/indexing.html#returning-a-view-versus-a-copy\n",
            "  This is separate from the ipykernel package so we can avoid doing imports until\n"
          ]
        }
      ]
    },
    {
      "cell_type": "code",
      "metadata": {
        "colab": {
          "base_uri": "https://localhost:8080/",
          "height": 419
        },
        "id": "O1_jgqSo44aM",
        "outputId": "25cbb8c3-13c4-46dc-ae26-5a14a9ce56d1"
      },
      "source": [
        "df2"
      ],
      "execution_count": 10,
      "outputs": [
        {
          "output_type": "execute_result",
          "data": {
            "text/html": [
              "<div>\n",
              "<style scoped>\n",
              "    .dataframe tbody tr th:only-of-type {\n",
              "        vertical-align: middle;\n",
              "    }\n",
              "\n",
              "    .dataframe tbody tr th {\n",
              "        vertical-align: top;\n",
              "    }\n",
              "\n",
              "    .dataframe thead th {\n",
              "        text-align: right;\n",
              "    }\n",
              "</style>\n",
              "<table border=\"1\" class=\"dataframe\">\n",
              "  <thead>\n",
              "    <tr style=\"text-align: right;\">\n",
              "      <th></th>\n",
              "      <th>date</th>\n",
              "      <th>R_odds</th>\n",
              "      <th>B_odds</th>\n",
              "      <th>Winner</th>\n",
              "      <th>Profit</th>\n",
              "    </tr>\n",
              "  </thead>\n",
              "  <tbody>\n",
              "    <tr>\n",
              "      <th>0</th>\n",
              "      <td>3/14/2020</td>\n",
              "      <td>-145.0</td>\n",
              "      <td>135.0</td>\n",
              "      <td>Blue</td>\n",
              "      <td>NaN</td>\n",
              "    </tr>\n",
              "    <tr>\n",
              "      <th>1</th>\n",
              "      <td>3/14/2020</td>\n",
              "      <td>160.0</td>\n",
              "      <td>-170.0</td>\n",
              "      <td>Blue</td>\n",
              "      <td>NaN</td>\n",
              "    </tr>\n",
              "    <tr>\n",
              "      <th>2</th>\n",
              "      <td>3/14/2020</td>\n",
              "      <td>-345.0</td>\n",
              "      <td>315.0</td>\n",
              "      <td>Red</td>\n",
              "      <td>NaN</td>\n",
              "    </tr>\n",
              "    <tr>\n",
              "      <th>3</th>\n",
              "      <td>3/14/2020</td>\n",
              "      <td>-137.0</td>\n",
              "      <td>127.0</td>\n",
              "      <td>Blue</td>\n",
              "      <td>NaN</td>\n",
              "    </tr>\n",
              "    <tr>\n",
              "      <th>4</th>\n",
              "      <td>3/14/2020</td>\n",
              "      <td>-160.0</td>\n",
              "      <td>150.0</td>\n",
              "      <td>Red</td>\n",
              "      <td>NaN</td>\n",
              "    </tr>\n",
              "    <tr>\n",
              "      <th>...</th>\n",
              "      <td>...</td>\n",
              "      <td>...</td>\n",
              "      <td>...</td>\n",
              "      <td>...</td>\n",
              "      <td>...</td>\n",
              "    </tr>\n",
              "    <tr>\n",
              "      <th>4235</th>\n",
              "      <td>3/21/2010</td>\n",
              "      <td>-155.0</td>\n",
              "      <td>135.0</td>\n",
              "      <td>Blue</td>\n",
              "      <td>NaN</td>\n",
              "    </tr>\n",
              "    <tr>\n",
              "      <th>4236</th>\n",
              "      <td>3/21/2010</td>\n",
              "      <td>-210.0</td>\n",
              "      <td>175.0</td>\n",
              "      <td>Red</td>\n",
              "      <td>NaN</td>\n",
              "    </tr>\n",
              "    <tr>\n",
              "      <th>4237</th>\n",
              "      <td>3/21/2010</td>\n",
              "      <td>-260.0</td>\n",
              "      <td>220.0</td>\n",
              "      <td>Red</td>\n",
              "      <td>NaN</td>\n",
              "    </tr>\n",
              "    <tr>\n",
              "      <th>4238</th>\n",
              "      <td>3/21/2010</td>\n",
              "      <td>-420.0</td>\n",
              "      <td>335.0</td>\n",
              "      <td>Red</td>\n",
              "      <td>NaN</td>\n",
              "    </tr>\n",
              "    <tr>\n",
              "      <th>4239</th>\n",
              "      <td>3/21/2010</td>\n",
              "      <td>140.0</td>\n",
              "      <td>-160.0</td>\n",
              "      <td>Blue</td>\n",
              "      <td>NaN</td>\n",
              "    </tr>\n",
              "  </tbody>\n",
              "</table>\n",
              "<p>4240 rows × 5 columns</p>\n",
              "</div>"
            ],
            "text/plain": [
              "           date  R_odds  B_odds Winner  Profit\n",
              "0     3/14/2020  -145.0   135.0   Blue     NaN\n",
              "1     3/14/2020   160.0  -170.0   Blue     NaN\n",
              "2     3/14/2020  -345.0   315.0    Red     NaN\n",
              "3     3/14/2020  -137.0   127.0   Blue     NaN\n",
              "4     3/14/2020  -160.0   150.0    Red     NaN\n",
              "...         ...     ...     ...    ...     ...\n",
              "4235  3/21/2010  -155.0   135.0   Blue     NaN\n",
              "4236  3/21/2010  -210.0   175.0    Red     NaN\n",
              "4237  3/21/2010  -260.0   220.0    Red     NaN\n",
              "4238  3/21/2010  -420.0   335.0    Red     NaN\n",
              "4239  3/21/2010   140.0  -160.0   Blue     NaN\n",
              "\n",
              "[4240 rows x 5 columns]"
            ]
          },
          "metadata": {},
          "execution_count": 10
        }
      ]
    },
    {
      "cell_type": "code",
      "metadata": {
        "id": "t5243W3TEQDd"
      },
      "source": [
        "#Boolean mask to create a new dataset that matches all of the instances in wich the underdog won\n",
        "\n",
        "mask = ((df2['R_odds'] > 0) & (df2['Winner'] == 'Red') | (df2['B_odds'] > 0 ) & (df2['Winner'] == 'Blue'))\n",
        "dog_win = df2[mask]\n",
        "\n",
        "#To create a dataset with all of the instances in which the dog lost, we just use the NOT operator with the same boolean mask\n",
        "dog_loss = df2[~mask]\n"
      ],
      "execution_count": 11,
      "outputs": []
    },
    {
      "cell_type": "code",
      "metadata": {
        "colab": {
          "base_uri": "https://localhost:8080/",
          "height": 521
        },
        "id": "3F1g1zzvOvDR",
        "outputId": "8b618c32-a7e4-4527-e3f1-3a8013ce84f5"
      },
      "source": [
        "#In the dog_loss DS, the profit will always be -100\n",
        "\n",
        "dog_loss['Profit'] = (-100)\n",
        "dog_loss"
      ],
      "execution_count": 12,
      "outputs": [
        {
          "output_type": "stream",
          "name": "stderr",
          "text": [
            "/usr/local/lib/python3.7/dist-packages/ipykernel_launcher.py:3: SettingWithCopyWarning: \n",
            "A value is trying to be set on a copy of a slice from a DataFrame.\n",
            "Try using .loc[row_indexer,col_indexer] = value instead\n",
            "\n",
            "See the caveats in the documentation: https://pandas.pydata.org/pandas-docs/stable/user_guide/indexing.html#returning-a-view-versus-a-copy\n",
            "  This is separate from the ipykernel package so we can avoid doing imports until\n"
          ]
        },
        {
          "output_type": "execute_result",
          "data": {
            "text/html": [
              "<div>\n",
              "<style scoped>\n",
              "    .dataframe tbody tr th:only-of-type {\n",
              "        vertical-align: middle;\n",
              "    }\n",
              "\n",
              "    .dataframe tbody tr th {\n",
              "        vertical-align: top;\n",
              "    }\n",
              "\n",
              "    .dataframe thead th {\n",
              "        text-align: right;\n",
              "    }\n",
              "</style>\n",
              "<table border=\"1\" class=\"dataframe\">\n",
              "  <thead>\n",
              "    <tr style=\"text-align: right;\">\n",
              "      <th></th>\n",
              "      <th>date</th>\n",
              "      <th>R_odds</th>\n",
              "      <th>B_odds</th>\n",
              "      <th>Winner</th>\n",
              "      <th>Profit</th>\n",
              "    </tr>\n",
              "  </thead>\n",
              "  <tbody>\n",
              "    <tr>\n",
              "      <th>1</th>\n",
              "      <td>3/14/2020</td>\n",
              "      <td>160.0</td>\n",
              "      <td>-170.0</td>\n",
              "      <td>Blue</td>\n",
              "      <td>-100</td>\n",
              "    </tr>\n",
              "    <tr>\n",
              "      <th>2</th>\n",
              "      <td>3/14/2020</td>\n",
              "      <td>-345.0</td>\n",
              "      <td>315.0</td>\n",
              "      <td>Red</td>\n",
              "      <td>-100</td>\n",
              "    </tr>\n",
              "    <tr>\n",
              "      <th>4</th>\n",
              "      <td>3/14/2020</td>\n",
              "      <td>-160.0</td>\n",
              "      <td>150.0</td>\n",
              "      <td>Red</td>\n",
              "      <td>-100</td>\n",
              "    </tr>\n",
              "    <tr>\n",
              "      <th>6</th>\n",
              "      <td>3/14/2020</td>\n",
              "      <td>-345.0</td>\n",
              "      <td>315.0</td>\n",
              "      <td>Red</td>\n",
              "      <td>-100</td>\n",
              "    </tr>\n",
              "    <tr>\n",
              "      <th>7</th>\n",
              "      <td>3/14/2020</td>\n",
              "      <td>-122.0</td>\n",
              "      <td>112.0</td>\n",
              "      <td>Red</td>\n",
              "      <td>-100</td>\n",
              "    </tr>\n",
              "    <tr>\n",
              "      <th>...</th>\n",
              "      <td>...</td>\n",
              "      <td>...</td>\n",
              "      <td>...</td>\n",
              "      <td>...</td>\n",
              "      <td>...</td>\n",
              "    </tr>\n",
              "    <tr>\n",
              "      <th>4234</th>\n",
              "      <td>3/21/2010</td>\n",
              "      <td>145.0</td>\n",
              "      <td>-165.0</td>\n",
              "      <td>Blue</td>\n",
              "      <td>-100</td>\n",
              "    </tr>\n",
              "    <tr>\n",
              "      <th>4236</th>\n",
              "      <td>3/21/2010</td>\n",
              "      <td>-210.0</td>\n",
              "      <td>175.0</td>\n",
              "      <td>Red</td>\n",
              "      <td>-100</td>\n",
              "    </tr>\n",
              "    <tr>\n",
              "      <th>4237</th>\n",
              "      <td>3/21/2010</td>\n",
              "      <td>-260.0</td>\n",
              "      <td>220.0</td>\n",
              "      <td>Red</td>\n",
              "      <td>-100</td>\n",
              "    </tr>\n",
              "    <tr>\n",
              "      <th>4238</th>\n",
              "      <td>3/21/2010</td>\n",
              "      <td>-420.0</td>\n",
              "      <td>335.0</td>\n",
              "      <td>Red</td>\n",
              "      <td>-100</td>\n",
              "    </tr>\n",
              "    <tr>\n",
              "      <th>4239</th>\n",
              "      <td>3/21/2010</td>\n",
              "      <td>140.0</td>\n",
              "      <td>-160.0</td>\n",
              "      <td>Blue</td>\n",
              "      <td>-100</td>\n",
              "    </tr>\n",
              "  </tbody>\n",
              "</table>\n",
              "<p>2889 rows × 5 columns</p>\n",
              "</div>"
            ],
            "text/plain": [
              "           date  R_odds  B_odds Winner  Profit\n",
              "1     3/14/2020   160.0  -170.0   Blue    -100\n",
              "2     3/14/2020  -345.0   315.0    Red    -100\n",
              "4     3/14/2020  -160.0   150.0    Red    -100\n",
              "6     3/14/2020  -345.0   315.0    Red    -100\n",
              "7     3/14/2020  -122.0   112.0    Red    -100\n",
              "...         ...     ...     ...    ...     ...\n",
              "4234  3/21/2010   145.0  -165.0   Blue    -100\n",
              "4236  3/21/2010  -210.0   175.0    Red    -100\n",
              "4237  3/21/2010  -260.0   220.0    Red    -100\n",
              "4238  3/21/2010  -420.0   335.0    Red    -100\n",
              "4239  3/21/2010   140.0  -160.0   Blue    -100\n",
              "\n",
              "[2889 rows x 5 columns]"
            ]
          },
          "metadata": {},
          "execution_count": 12
        }
      ]
    },
    {
      "cell_type": "code",
      "metadata": {
        "colab": {
          "base_uri": "https://localhost:8080/"
        },
        "id": "-5N2VM4gOv7x",
        "outputId": "2167edd2-a81b-46cf-fca0-8f7fe9a3d605"
      },
      "source": [
        "#With the american odds system, we will profit the odds number for every $100 we bet, so the profit column will be the Underdog odds\n",
        "dog_win['Profit'] = dog_win.max(axis = 1)"
      ],
      "execution_count": 13,
      "outputs": [
        {
          "output_type": "stream",
          "name": "stderr",
          "text": [
            "/usr/local/lib/python3.7/dist-packages/ipykernel_launcher.py:2: SettingWithCopyWarning: \n",
            "A value is trying to be set on a copy of a slice from a DataFrame.\n",
            "Try using .loc[row_indexer,col_indexer] = value instead\n",
            "\n",
            "See the caveats in the documentation: https://pandas.pydata.org/pandas-docs/stable/user_guide/indexing.html#returning-a-view-versus-a-copy\n",
            "  \n"
          ]
        }
      ]
    },
    {
      "cell_type": "code",
      "metadata": {
        "colab": {
          "base_uri": "https://localhost:8080/",
          "height": 419
        },
        "id": "i2ZjB0sBQRoE",
        "outputId": "4e804fb1-a636-4193-e2f8-5e0c2e86d56d"
      },
      "source": [
        "dog_win"
      ],
      "execution_count": 14,
      "outputs": [
        {
          "output_type": "execute_result",
          "data": {
            "text/html": [
              "<div>\n",
              "<style scoped>\n",
              "    .dataframe tbody tr th:only-of-type {\n",
              "        vertical-align: middle;\n",
              "    }\n",
              "\n",
              "    .dataframe tbody tr th {\n",
              "        vertical-align: top;\n",
              "    }\n",
              "\n",
              "    .dataframe thead th {\n",
              "        text-align: right;\n",
              "    }\n",
              "</style>\n",
              "<table border=\"1\" class=\"dataframe\">\n",
              "  <thead>\n",
              "    <tr style=\"text-align: right;\">\n",
              "      <th></th>\n",
              "      <th>date</th>\n",
              "      <th>R_odds</th>\n",
              "      <th>B_odds</th>\n",
              "      <th>Winner</th>\n",
              "      <th>Profit</th>\n",
              "    </tr>\n",
              "  </thead>\n",
              "  <tbody>\n",
              "    <tr>\n",
              "      <th>0</th>\n",
              "      <td>3/14/2020</td>\n",
              "      <td>-145.0</td>\n",
              "      <td>135.0</td>\n",
              "      <td>Blue</td>\n",
              "      <td>135.0</td>\n",
              "    </tr>\n",
              "    <tr>\n",
              "      <th>3</th>\n",
              "      <td>3/14/2020</td>\n",
              "      <td>-137.0</td>\n",
              "      <td>127.0</td>\n",
              "      <td>Blue</td>\n",
              "      <td>127.0</td>\n",
              "    </tr>\n",
              "    <tr>\n",
              "      <th>5</th>\n",
              "      <td>3/14/2020</td>\n",
              "      <td>-150.0</td>\n",
              "      <td>140.0</td>\n",
              "      <td>Blue</td>\n",
              "      <td>140.0</td>\n",
              "    </tr>\n",
              "    <tr>\n",
              "      <th>9</th>\n",
              "      <td>3/14/2020</td>\n",
              "      <td>-140.0</td>\n",
              "      <td>130.0</td>\n",
              "      <td>Blue</td>\n",
              "      <td>130.0</td>\n",
              "    </tr>\n",
              "    <tr>\n",
              "      <th>10</th>\n",
              "      <td>3/14/2020</td>\n",
              "      <td>-110.0</td>\n",
              "      <td>100.0</td>\n",
              "      <td>Blue</td>\n",
              "      <td>100.0</td>\n",
              "    </tr>\n",
              "    <tr>\n",
              "      <th>...</th>\n",
              "      <td>...</td>\n",
              "      <td>...</td>\n",
              "      <td>...</td>\n",
              "      <td>...</td>\n",
              "      <td>...</td>\n",
              "    </tr>\n",
              "    <tr>\n",
              "      <th>4213</th>\n",
              "      <td>3/31/2010</td>\n",
              "      <td>190.0</td>\n",
              "      <td>-230.0</td>\n",
              "      <td>Red</td>\n",
              "      <td>190.0</td>\n",
              "    </tr>\n",
              "    <tr>\n",
              "      <th>4218</th>\n",
              "      <td>3/31/2010</td>\n",
              "      <td>173.0</td>\n",
              "      <td>-205.0</td>\n",
              "      <td>Red</td>\n",
              "      <td>173.0</td>\n",
              "    </tr>\n",
              "    <tr>\n",
              "      <th>4220</th>\n",
              "      <td>3/27/2010</td>\n",
              "      <td>-150.0</td>\n",
              "      <td>140.0</td>\n",
              "      <td>Blue</td>\n",
              "      <td>140.0</td>\n",
              "    </tr>\n",
              "    <tr>\n",
              "      <th>4227</th>\n",
              "      <td>3/27/2010</td>\n",
              "      <td>-160.0</td>\n",
              "      <td>140.0</td>\n",
              "      <td>Blue</td>\n",
              "      <td>140.0</td>\n",
              "    </tr>\n",
              "    <tr>\n",
              "      <th>4235</th>\n",
              "      <td>3/21/2010</td>\n",
              "      <td>-155.0</td>\n",
              "      <td>135.0</td>\n",
              "      <td>Blue</td>\n",
              "      <td>135.0</td>\n",
              "    </tr>\n",
              "  </tbody>\n",
              "</table>\n",
              "<p>1351 rows × 5 columns</p>\n",
              "</div>"
            ],
            "text/plain": [
              "           date  R_odds  B_odds Winner  Profit\n",
              "0     3/14/2020  -145.0   135.0   Blue   135.0\n",
              "3     3/14/2020  -137.0   127.0   Blue   127.0\n",
              "5     3/14/2020  -150.0   140.0   Blue   140.0\n",
              "9     3/14/2020  -140.0   130.0   Blue   130.0\n",
              "10    3/14/2020  -110.0   100.0   Blue   100.0\n",
              "...         ...     ...     ...    ...     ...\n",
              "4213  3/31/2010   190.0  -230.0    Red   190.0\n",
              "4218  3/31/2010   173.0  -205.0    Red   173.0\n",
              "4220  3/27/2010  -150.0   140.0   Blue   140.0\n",
              "4227  3/27/2010  -160.0   140.0   Blue   140.0\n",
              "4235  3/21/2010  -155.0   135.0   Blue   135.0\n",
              "\n",
              "[1351 rows x 5 columns]"
            ]
          },
          "metadata": {},
          "execution_count": 14
        }
      ]
    },
    {
      "cell_type": "code",
      "metadata": {
        "colab": {
          "base_uri": "https://localhost:8080/"
        },
        "id": "RruPtYsZQTQR",
        "outputId": "763a1c57-71ca-4be5-a1be-0e872d1cc5b5"
      },
      "source": [
        "#Compare wins vs losses\n",
        "\n",
        "result = dog_win['Profit'].sum() + dog_loss['Profit'].sum()\n",
        "print(result)"
      ],
      "execution_count": 15,
      "outputs": [
        {
          "output_type": "stream",
          "name": "stdout",
          "text": [
            "-43253.0\n"
          ]
        }
      ]
    },
    {
      "cell_type": "code",
      "metadata": {
        "colab": {
          "base_uri": "https://localhost:8080/"
        },
        "id": "0mnwzY70d4Ro",
        "outputId": "c514a10f-c992-4466-a8d2-de6884458d5f"
      },
      "source": [
        "#Biggest upsets\n",
        "print(dog_win['R_odds'].max())\n",
        "print(dog_win['B_odds'].max())\n",
        "\n",
        "#Biggest favorites who, indeed, won\n",
        "print(dog_loss['R_odds'].min())\n",
        "print(dog_loss['B_odds'].min())\n"
      ],
      "execution_count": 16,
      "outputs": [
        {
          "output_type": "stream",
          "name": "stdout",
          "text": [
            "655.0\n",
            "735.0\n",
            "-1700.0\n",
            "-1200.0\n"
          ]
        }
      ]
    },
    {
      "cell_type": "code",
      "metadata": {
        "id": "wu0pGAuMSACL"
      },
      "source": [
        "#Merge both DF\n",
        "dataframes = [dog_win, dog_loss]\n",
        "df3 = pd.concat(dataframes)"
      ],
      "execution_count": 17,
      "outputs": []
    },
    {
      "cell_type": "code",
      "metadata": {
        "colab": {
          "base_uri": "https://localhost:8080/",
          "height": 419
        },
        "id": "o16A7NpCVZ93",
        "outputId": "7b97ff79-5c13-467d-d132-cb6a6b559c84"
      },
      "source": [
        "df3"
      ],
      "execution_count": 18,
      "outputs": [
        {
          "output_type": "execute_result",
          "data": {
            "text/html": [
              "<div>\n",
              "<style scoped>\n",
              "    .dataframe tbody tr th:only-of-type {\n",
              "        vertical-align: middle;\n",
              "    }\n",
              "\n",
              "    .dataframe tbody tr th {\n",
              "        vertical-align: top;\n",
              "    }\n",
              "\n",
              "    .dataframe thead th {\n",
              "        text-align: right;\n",
              "    }\n",
              "</style>\n",
              "<table border=\"1\" class=\"dataframe\">\n",
              "  <thead>\n",
              "    <tr style=\"text-align: right;\">\n",
              "      <th></th>\n",
              "      <th>date</th>\n",
              "      <th>R_odds</th>\n",
              "      <th>B_odds</th>\n",
              "      <th>Winner</th>\n",
              "      <th>Profit</th>\n",
              "    </tr>\n",
              "  </thead>\n",
              "  <tbody>\n",
              "    <tr>\n",
              "      <th>0</th>\n",
              "      <td>3/14/2020</td>\n",
              "      <td>-145.0</td>\n",
              "      <td>135.0</td>\n",
              "      <td>Blue</td>\n",
              "      <td>135.0</td>\n",
              "    </tr>\n",
              "    <tr>\n",
              "      <th>3</th>\n",
              "      <td>3/14/2020</td>\n",
              "      <td>-137.0</td>\n",
              "      <td>127.0</td>\n",
              "      <td>Blue</td>\n",
              "      <td>127.0</td>\n",
              "    </tr>\n",
              "    <tr>\n",
              "      <th>5</th>\n",
              "      <td>3/14/2020</td>\n",
              "      <td>-150.0</td>\n",
              "      <td>140.0</td>\n",
              "      <td>Blue</td>\n",
              "      <td>140.0</td>\n",
              "    </tr>\n",
              "    <tr>\n",
              "      <th>9</th>\n",
              "      <td>3/14/2020</td>\n",
              "      <td>-140.0</td>\n",
              "      <td>130.0</td>\n",
              "      <td>Blue</td>\n",
              "      <td>130.0</td>\n",
              "    </tr>\n",
              "    <tr>\n",
              "      <th>10</th>\n",
              "      <td>3/14/2020</td>\n",
              "      <td>-110.0</td>\n",
              "      <td>100.0</td>\n",
              "      <td>Blue</td>\n",
              "      <td>100.0</td>\n",
              "    </tr>\n",
              "    <tr>\n",
              "      <th>...</th>\n",
              "      <td>...</td>\n",
              "      <td>...</td>\n",
              "      <td>...</td>\n",
              "      <td>...</td>\n",
              "      <td>...</td>\n",
              "    </tr>\n",
              "    <tr>\n",
              "      <th>4234</th>\n",
              "      <td>3/21/2010</td>\n",
              "      <td>145.0</td>\n",
              "      <td>-165.0</td>\n",
              "      <td>Blue</td>\n",
              "      <td>-100.0</td>\n",
              "    </tr>\n",
              "    <tr>\n",
              "      <th>4236</th>\n",
              "      <td>3/21/2010</td>\n",
              "      <td>-210.0</td>\n",
              "      <td>175.0</td>\n",
              "      <td>Red</td>\n",
              "      <td>-100.0</td>\n",
              "    </tr>\n",
              "    <tr>\n",
              "      <th>4237</th>\n",
              "      <td>3/21/2010</td>\n",
              "      <td>-260.0</td>\n",
              "      <td>220.0</td>\n",
              "      <td>Red</td>\n",
              "      <td>-100.0</td>\n",
              "    </tr>\n",
              "    <tr>\n",
              "      <th>4238</th>\n",
              "      <td>3/21/2010</td>\n",
              "      <td>-420.0</td>\n",
              "      <td>335.0</td>\n",
              "      <td>Red</td>\n",
              "      <td>-100.0</td>\n",
              "    </tr>\n",
              "    <tr>\n",
              "      <th>4239</th>\n",
              "      <td>3/21/2010</td>\n",
              "      <td>140.0</td>\n",
              "      <td>-160.0</td>\n",
              "      <td>Blue</td>\n",
              "      <td>-100.0</td>\n",
              "    </tr>\n",
              "  </tbody>\n",
              "</table>\n",
              "<p>4240 rows × 5 columns</p>\n",
              "</div>"
            ],
            "text/plain": [
              "           date  R_odds  B_odds Winner  Profit\n",
              "0     3/14/2020  -145.0   135.0   Blue   135.0\n",
              "3     3/14/2020  -137.0   127.0   Blue   127.0\n",
              "5     3/14/2020  -150.0   140.0   Blue   140.0\n",
              "9     3/14/2020  -140.0   130.0   Blue   130.0\n",
              "10    3/14/2020  -110.0   100.0   Blue   100.0\n",
              "...         ...     ...     ...    ...     ...\n",
              "4234  3/21/2010   145.0  -165.0   Blue  -100.0\n",
              "4236  3/21/2010  -210.0   175.0    Red  -100.0\n",
              "4237  3/21/2010  -260.0   220.0    Red  -100.0\n",
              "4238  3/21/2010  -420.0   335.0    Red  -100.0\n",
              "4239  3/21/2010   140.0  -160.0   Blue  -100.0\n",
              "\n",
              "[4240 rows x 5 columns]"
            ]
          },
          "metadata": {},
          "execution_count": 18
        }
      ]
    },
    {
      "cell_type": "code",
      "metadata": {
        "id": "4UrcneLQVexP"
      },
      "source": [
        "#Import the datetime library to sort results by month\n",
        "import datetime \n",
        "df3['date'] = pd.to_datetime(df['date'])\n",
        "df3['date'] = df3['date'].dt.strftime('%Y-%m')"
      ],
      "execution_count": 19,
      "outputs": []
    },
    {
      "cell_type": "code",
      "metadata": {
        "colab": {
          "base_uri": "https://localhost:8080/",
          "height": 450
        },
        "id": "q9wRmdlvWs-B",
        "outputId": "3f6c6a71-3de6-4d2f-fd91-1abda3431a0a"
      },
      "source": [
        "\n",
        "month_by_month = df3.groupby('date', as_index = 'False').agg({'Profit':'sum'})\n",
        "month_by_month"
      ],
      "execution_count": 20,
      "outputs": [
        {
          "output_type": "execute_result",
          "data": {
            "text/html": [
              "<div>\n",
              "<style scoped>\n",
              "    .dataframe tbody tr th:only-of-type {\n",
              "        vertical-align: middle;\n",
              "    }\n",
              "\n",
              "    .dataframe tbody tr th {\n",
              "        vertical-align: top;\n",
              "    }\n",
              "\n",
              "    .dataframe thead th {\n",
              "        text-align: right;\n",
              "    }\n",
              "</style>\n",
              "<table border=\"1\" class=\"dataframe\">\n",
              "  <thead>\n",
              "    <tr style=\"text-align: right;\">\n",
              "      <th></th>\n",
              "      <th>Profit</th>\n",
              "    </tr>\n",
              "    <tr>\n",
              "      <th>date</th>\n",
              "      <th></th>\n",
              "    </tr>\n",
              "  </thead>\n",
              "  <tbody>\n",
              "    <tr>\n",
              "      <th>2010-03</th>\n",
              "      <td>-1632.0</td>\n",
              "    </tr>\n",
              "    <tr>\n",
              "      <th>2010-04</th>\n",
              "      <td>505.0</td>\n",
              "    </tr>\n",
              "    <tr>\n",
              "      <th>2010-05</th>\n",
              "      <td>990.0</td>\n",
              "    </tr>\n",
              "    <tr>\n",
              "      <th>2010-06</th>\n",
              "      <td>281.0</td>\n",
              "    </tr>\n",
              "    <tr>\n",
              "      <th>2010-07</th>\n",
              "      <td>-93.0</td>\n",
              "    </tr>\n",
              "    <tr>\n",
              "      <th>...</th>\n",
              "      <td>...</td>\n",
              "    </tr>\n",
              "    <tr>\n",
              "      <th>2019-11</th>\n",
              "      <td>-1120.0</td>\n",
              "    </tr>\n",
              "    <tr>\n",
              "      <th>2019-12</th>\n",
              "      <td>-1055.0</td>\n",
              "    </tr>\n",
              "    <tr>\n",
              "      <th>2020-01</th>\n",
              "      <td>15.0</td>\n",
              "    </tr>\n",
              "    <tr>\n",
              "      <th>2020-02</th>\n",
              "      <td>207.0</td>\n",
              "    </tr>\n",
              "    <tr>\n",
              "      <th>2020-03</th>\n",
              "      <td>-181.0</td>\n",
              "    </tr>\n",
              "  </tbody>\n",
              "</table>\n",
              "<p>121 rows × 1 columns</p>\n",
              "</div>"
            ],
            "text/plain": [
              "         Profit\n",
              "date           \n",
              "2010-03 -1632.0\n",
              "2010-04   505.0\n",
              "2010-05   990.0\n",
              "2010-06   281.0\n",
              "2010-07   -93.0\n",
              "...         ...\n",
              "2019-11 -1120.0\n",
              "2019-12 -1055.0\n",
              "2020-01    15.0\n",
              "2020-02   207.0\n",
              "2020-03  -181.0\n",
              "\n",
              "[121 rows x 1 columns]"
            ]
          },
          "metadata": {},
          "execution_count": 20
        }
      ]
    },
    {
      "cell_type": "code",
      "metadata": {
        "colab": {
          "base_uri": "https://localhost:8080/",
          "height": 297
        },
        "id": "pQtrACFlXfl7",
        "outputId": "49deae20-0d21-49f3-a848-b280be12ff96"
      },
      "source": [
        "#Descriptive statistics\n",
        "month_by_month.describe()"
      ],
      "execution_count": 21,
      "outputs": [
        {
          "output_type": "execute_result",
          "data": {
            "text/html": [
              "<div>\n",
              "<style scoped>\n",
              "    .dataframe tbody tr th:only-of-type {\n",
              "        vertical-align: middle;\n",
              "    }\n",
              "\n",
              "    .dataframe tbody tr th {\n",
              "        vertical-align: top;\n",
              "    }\n",
              "\n",
              "    .dataframe thead th {\n",
              "        text-align: right;\n",
              "    }\n",
              "</style>\n",
              "<table border=\"1\" class=\"dataframe\">\n",
              "  <thead>\n",
              "    <tr style=\"text-align: right;\">\n",
              "      <th></th>\n",
              "      <th>Profit</th>\n",
              "    </tr>\n",
              "  </thead>\n",
              "  <tbody>\n",
              "    <tr>\n",
              "      <th>count</th>\n",
              "      <td>121.000000</td>\n",
              "    </tr>\n",
              "    <tr>\n",
              "      <th>mean</th>\n",
              "      <td>-357.462810</td>\n",
              "    </tr>\n",
              "    <tr>\n",
              "      <th>std</th>\n",
              "      <td>836.344796</td>\n",
              "    </tr>\n",
              "    <tr>\n",
              "      <th>min</th>\n",
              "      <td>-2260.000000</td>\n",
              "    </tr>\n",
              "    <tr>\n",
              "      <th>25%</th>\n",
              "      <td>-860.000000</td>\n",
              "    </tr>\n",
              "    <tr>\n",
              "      <th>50%</th>\n",
              "      <td>-363.000000</td>\n",
              "    </tr>\n",
              "    <tr>\n",
              "      <th>75%</th>\n",
              "      <td>175.000000</td>\n",
              "    </tr>\n",
              "    <tr>\n",
              "      <th>max</th>\n",
              "      <td>2398.000000</td>\n",
              "    </tr>\n",
              "  </tbody>\n",
              "</table>\n",
              "</div>"
            ],
            "text/plain": [
              "            Profit\n",
              "count   121.000000\n",
              "mean   -357.462810\n",
              "std     836.344796\n",
              "min   -2260.000000\n",
              "25%    -860.000000\n",
              "50%    -363.000000\n",
              "75%     175.000000\n",
              "max    2398.000000"
            ]
          },
          "metadata": {},
          "execution_count": 21
        }
      ]
    },
    {
      "cell_type": "code",
      "metadata": {
        "colab": {
          "base_uri": "https://localhost:8080/",
          "height": 296
        },
        "id": "0IDTmV98Xv2I",
        "outputId": "2b9742c7-94cc-480c-95bf-8bb67b6b49f7"
      },
      "source": [
        "#Histogram of results\n",
        "sns.histplot(data=month_by_month, x='Profit', bins=30)"
      ],
      "execution_count": 22,
      "outputs": [
        {
          "output_type": "execute_result",
          "data": {
            "text/plain": [
              "<matplotlib.axes._subplots.AxesSubplot at 0x7f6d27e13e90>"
            ]
          },
          "metadata": {},
          "execution_count": 22
        },
        {
          "output_type": "display_data",
          "data": {
            "image/png": "[encoded data removed]",
            "text/plain": [
              "<Figure size 432x288 with 1 Axes>"
            ]
          },
          "metadata": {
            "needs_background": "light"
          }
        }
      ]
    },
    {
      "cell_type": "code",
      "metadata": {
        "id": "T1ceIKId_w6u"
      },
      "source": [
        "#As we could see. not only did underdogs performed worst, but they didn't even perform good enough to break even in our bets"
      ],
      "execution_count": 23,
      "outputs": []
    }
  ]
}